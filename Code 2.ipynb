{
 "cells": [
  {
   "cell_type": "code",
   "execution_count": 6,
   "metadata": {},
   "outputs": [
    {
     "name": "stdout",
     "output_type": "stream",
     "text": [
      "Shannon entropy: 8.0\n"
     ]
    }
   ],
   "source": [
    "import math\n",
    "\n",
    "def calculate_shannon_entropy(data):\n",
    "    # Count the frequency of each pixel value\n",
    "    frequency = {}\n",
    "    for variable in data:\n",
    "        if variable in frequency:\n",
    "            frequency[variable] += 1\n",
    "        else:\n",
    "            frequency[variable] = 1\n",
    "\n",
    "   # Calculate the Shannon entropy\n",
    "    entropy = 0.0\n",
    "    total_count = len(data)\n",
    "    for count in frequency.values():\n",
    "        probability = count / total_count\n",
    "        entropy -= probability * math.log2(probability)\n",
    "    \n",
    "    return entropy\n",
    "\n",
    "data = range(256)\n",
    "entropy = calculate_shannon_entropy(data)\n",
    "print(f\"Shannon entropy: {entropy}\")"
   ]
  },
  {
   "cell_type": "code",
   "execution_count": null,
   "metadata": {},
   "outputs": [],
   "source": []
  }
 ],
 "metadata": {
  "kernelspec": {
   "display_name": "Python 3",
   "language": "python",
   "name": "python3"
  },
  "language_info": {
   "codemirror_mode": {
    "name": "ipython",
    "version": 3
   },
   "file_extension": ".py",
   "mimetype": "text/x-python",
   "name": "python",
   "nbconvert_exporter": "python",
   "pygments_lexer": "ipython3",
   "version": "3.6.10"
  }
 },
 "nbformat": 4,
 "nbformat_minor": 4
}
